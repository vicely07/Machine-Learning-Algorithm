{
 "cells": [
  {
   "cell_type": "code",
   "execution_count": 2,
   "metadata": {},
   "outputs": [],
   "source": [
    "using Plots"
   ]
  },
  {
   "cell_type": "code",
   "execution_count": 27,
   "metadata": {},
   "outputs": [
    {
     "data": {
      "text/plain": [
       "f (generic function with 1 method)"
      ]
     },
     "execution_count": 27,
     "metadata": {},
     "output_type": "execute_result"
    }
   ],
   "source": [
    "f(x) = x^2 - 2"
   ]
  },
  {
   "cell_type": "code",
   "execution_count": 4,
   "metadata": {},
   "outputs": [
    {
     "data": {
      "text/plain": [
       "df (generic function with 1 method)"
      ]
     },
     "execution_count": 4,
     "metadata": {},
     "output_type": "execute_result"
    }
   ],
   "source": [
    "df(f,x,ϵ) = (f(x+ϵ)-f(x))/ϵ"
   ]
  },
  {
   "cell_type": "code",
   "execution_count": 6,
   "metadata": {},
   "outputs": [
    {
     "data": {
      "text/plain": [
       "4.000000091153311"
      ]
     },
     "execution_count": 6,
     "metadata": {},
     "output_type": "execute_result"
    }
   ],
   "source": [
    "df(f, 2.0, 0.0000001)"
   ]
  },
  {
   "cell_type": "code",
   "execution_count": 8,
   "metadata": {},
   "outputs": [
    {
     "data": {
      "text/plain": [
       "Newton_Method (generic function with 1 method)"
      ]
     },
     "execution_count": 8,
     "metadata": {},
     "output_type": "execute_result"
    }
   ],
   "source": [
    "function Newton_Method(f, x_guess, ϵ)\n",
    "    \n",
    "    x_old = x_guess\n",
    "    x_new = x_old - f(x_old)/df(f, x_old, 0.00001)\n",
    "    \n",
    "    while abs(x_new - x_old) > ϵ\n",
    "        x_old, x_new = x_new, x_new - f(x_new)/df(f, x_new, 0.00001)\n",
    "    end\n",
    "    \n",
    "    return x_new\n",
    "end"
   ]
  },
  {
   "cell_type": "code",
   "execution_count": 10,
   "metadata": {},
   "outputs": [
    {
     "data": {
      "text/plain": [
       "1.4142135623731877"
      ]
     },
     "execution_count": 10,
     "metadata": {},
     "output_type": "execute_result"
    }
   ],
   "source": [
    "Newton_Method(f, 10000, 0.00001)"
   ]
  },
  {
   "cell_type": "code",
   "execution_count": 34,
   "metadata": {},
   "outputs": [
    {
     "data": {
      "image/svg+xml": [
       "<?xml version=\"1.0\" encoding=\"utf-8\"?>\n",
       "<svg xmlns=\"http://www.w3.org/2000/svg\" xmlns:xlink=\"http://www.w3.org/1999/xlink\" width=\"600\" height=\"400\" viewBox=\"0 0 2400 1600\">\n",
       "<defs>\n",
       "  <clipPath id=\"clip4800\">\n",
       "    <rect x=\"0\" y=\"0\" width=\"2000\" height=\"2000\"/>\n",
       "  </clipPath>\n",
       "</defs>\n",
       "<defs>\n",
       "  <clipPath id=\"clip4801\">\n",
       "    <rect x=\"0\" y=\"0\" width=\"2400\" height=\"1600\"/>\n",
       "  </clipPath>\n",
       "</defs>\n",
       "<polygon clip-path=\"url(#clip4801)\" points=\"\n",
       "0,1600 2400,1600 2400,0 0,0 \n",
       "  \" fill=\"#ffffff\" fill-rule=\"evenodd\" fill-opacity=\"1\"/>\n",
       "<defs>\n",
       "  <clipPath id=\"clip4802\">\n",
       "    <rect x=\"480\" y=\"0\" width=\"1681\" height=\"1600\"/>\n",
       "  </clipPath>\n",
       "</defs>\n",
       "<polygon clip-path=\"url(#clip4801)\" points=\"\n",
       "148.013,1503.47 2321.26,1503.47 2321.26,47.2441 148.013,47.2441 \n",
       "  \" fill=\"#ffffff\" fill-rule=\"evenodd\" fill-opacity=\"1\"/>\n",
       "<defs>\n",
       "  <clipPath id=\"clip4803\">\n",
       "    <rect x=\"148\" y=\"47\" width=\"2174\" height=\"1457\"/>\n",
       "  </clipPath>\n",
       "</defs>\n",
       "<polyline clip-path=\"url(#clip4803)\" style=\"stroke:#000000; stroke-width:2; stroke-opacity:0.1; fill:none\" points=\"\n",
       "  608.512,1503.47 608.512,47.2441 \n",
       "  \"/>\n",
       "<polyline clip-path=\"url(#clip4803)\" style=\"stroke:#000000; stroke-width:2; stroke-opacity:0.1; fill:none\" points=\"\n",
       "  1132.85,1503.47 1132.85,47.2441 \n",
       "  \"/>\n",
       "<polyline clip-path=\"url(#clip4803)\" style=\"stroke:#000000; stroke-width:2; stroke-opacity:0.1; fill:none\" points=\"\n",
       "  1657.2,1503.47 1657.2,47.2441 \n",
       "  \"/>\n",
       "<polyline clip-path=\"url(#clip4803)\" style=\"stroke:#000000; stroke-width:2; stroke-opacity:0.1; fill:none\" points=\"\n",
       "  2181.54,1503.47 2181.54,47.2441 \n",
       "  \"/>\n",
       "<polyline clip-path=\"url(#clip4803)\" style=\"stroke:#000000; stroke-width:2; stroke-opacity:0.1; fill:none\" points=\"\n",
       "  148.013,1417.93 2321.26,1417.93 \n",
       "  \"/>\n",
       "<polyline clip-path=\"url(#clip4803)\" style=\"stroke:#000000; stroke-width:2; stroke-opacity:0.1; fill:none\" points=\"\n",
       "  148.013,1196.29 2321.26,1196.29 \n",
       "  \"/>\n",
       "<polyline clip-path=\"url(#clip4803)\" style=\"stroke:#000000; stroke-width:2; stroke-opacity:0.1; fill:none\" points=\"\n",
       "  148.013,974.646 2321.26,974.646 \n",
       "  \"/>\n",
       "<polyline clip-path=\"url(#clip4803)\" style=\"stroke:#000000; stroke-width:2; stroke-opacity:0.1; fill:none\" points=\"\n",
       "  148.013,753.003 2321.26,753.003 \n",
       "  \"/>\n",
       "<polyline clip-path=\"url(#clip4803)\" style=\"stroke:#000000; stroke-width:2; stroke-opacity:0.1; fill:none\" points=\"\n",
       "  148.013,531.36 2321.26,531.36 \n",
       "  \"/>\n",
       "<polyline clip-path=\"url(#clip4803)\" style=\"stroke:#000000; stroke-width:2; stroke-opacity:0.1; fill:none\" points=\"\n",
       "  148.013,309.717 2321.26,309.717 \n",
       "  \"/>\n",
       "<polyline clip-path=\"url(#clip4803)\" style=\"stroke:#000000; stroke-width:2; stroke-opacity:0.1; fill:none\" points=\"\n",
       "  148.013,88.0745 2321.26,88.0745 \n",
       "  \"/>\n",
       "<polyline clip-path=\"url(#clip4801)\" style=\"stroke:#000000; stroke-width:4; stroke-opacity:1; fill:none\" points=\"\n",
       "  148.013,1503.47 2321.26,1503.47 \n",
       "  \"/>\n",
       "<polyline clip-path=\"url(#clip4801)\" style=\"stroke:#000000; stroke-width:4; stroke-opacity:1; fill:none\" points=\"\n",
       "  148.013,1503.47 148.013,47.2441 \n",
       "  \"/>\n",
       "<polyline clip-path=\"url(#clip4801)\" style=\"stroke:#000000; stroke-width:4; stroke-opacity:1; fill:none\" points=\"\n",
       "  608.512,1503.47 608.512,1481.63 \n",
       "  \"/>\n",
       "<polyline clip-path=\"url(#clip4801)\" style=\"stroke:#000000; stroke-width:4; stroke-opacity:1; fill:none\" points=\"\n",
       "  1132.85,1503.47 1132.85,1481.63 \n",
       "  \"/>\n",
       "<polyline clip-path=\"url(#clip4801)\" style=\"stroke:#000000; stroke-width:4; stroke-opacity:1; fill:none\" points=\"\n",
       "  1657.2,1503.47 1657.2,1481.63 \n",
       "  \"/>\n",
       "<polyline clip-path=\"url(#clip4801)\" style=\"stroke:#000000; stroke-width:4; stroke-opacity:1; fill:none\" points=\"\n",
       "  2181.54,1503.47 2181.54,1481.63 \n",
       "  \"/>\n",
       "<polyline clip-path=\"url(#clip4801)\" style=\"stroke:#000000; stroke-width:4; stroke-opacity:1; fill:none\" points=\"\n",
       "  148.013,1417.93 180.612,1417.93 \n",
       "  \"/>\n",
       "<polyline clip-path=\"url(#clip4801)\" style=\"stroke:#000000; stroke-width:4; stroke-opacity:1; fill:none\" points=\"\n",
       "  148.013,1196.29 180.612,1196.29 \n",
       "  \"/>\n",
       "<polyline clip-path=\"url(#clip4801)\" style=\"stroke:#000000; stroke-width:4; stroke-opacity:1; fill:none\" points=\"\n",
       "  148.013,974.646 180.612,974.646 \n",
       "  \"/>\n",
       "<polyline clip-path=\"url(#clip4801)\" style=\"stroke:#000000; stroke-width:4; stroke-opacity:1; fill:none\" points=\"\n",
       "  148.013,753.003 180.612,753.003 \n",
       "  \"/>\n",
       "<polyline clip-path=\"url(#clip4801)\" style=\"stroke:#000000; stroke-width:4; stroke-opacity:1; fill:none\" points=\"\n",
       "  148.013,531.36 180.612,531.36 \n",
       "  \"/>\n",
       "<polyline clip-path=\"url(#clip4801)\" style=\"stroke:#000000; stroke-width:4; stroke-opacity:1; fill:none\" points=\"\n",
       "  148.013,309.717 180.612,309.717 \n",
       "  \"/>\n",
       "<polyline clip-path=\"url(#clip4801)\" style=\"stroke:#000000; stroke-width:4; stroke-opacity:1; fill:none\" points=\"\n",
       "  148.013,88.0745 180.612,88.0745 \n",
       "  \"/>\n",
       "<g clip-path=\"url(#clip4801)\">\n",
       "<text style=\"fill:#000000; fill-opacity:1; font-family:Arial,Helvetica Neue,Helvetica,sans-serif; font-size:48px; text-anchor:middle;\" transform=\"rotate(0, 608.512, 1557.47)\" x=\"608.512\" y=\"1557.47\">0.0</text>\n",
       "</g>\n",
       "<g clip-path=\"url(#clip4801)\">\n",
       "<text style=\"fill:#000000; fill-opacity:1; font-family:Arial,Helvetica Neue,Helvetica,sans-serif; font-size:48px; text-anchor:middle;\" transform=\"rotate(0, 1132.85, 1557.47)\" x=\"1132.85\" y=\"1557.47\">2.5</text>\n",
       "</g>\n",
       "<g clip-path=\"url(#clip4801)\">\n",
       "<text style=\"fill:#000000; fill-opacity:1; font-family:Arial,Helvetica Neue,Helvetica,sans-serif; font-size:48px; text-anchor:middle;\" transform=\"rotate(0, 1657.2, 1557.47)\" x=\"1657.2\" y=\"1557.47\">5.0</text>\n",
       "</g>\n",
       "<g clip-path=\"url(#clip4801)\">\n",
       "<text style=\"fill:#000000; fill-opacity:1; font-family:Arial,Helvetica Neue,Helvetica,sans-serif; font-size:48px; text-anchor:middle;\" transform=\"rotate(0, 2181.54, 1557.47)\" x=\"2181.54\" y=\"1557.47\">7.5</text>\n",
       "</g>\n",
       "<g clip-path=\"url(#clip4801)\">\n",
       "<text style=\"fill:#000000; fill-opacity:1; font-family:Arial,Helvetica Neue,Helvetica,sans-serif; font-size:48px; text-anchor:end;\" transform=\"rotate(0, 124.013, 1435.43)\" x=\"124.013\" y=\"1435.43\">0</text>\n",
       "</g>\n",
       "<g clip-path=\"url(#clip4801)\">\n",
       "<text style=\"fill:#000000; fill-opacity:1; font-family:Arial,Helvetica Neue,Helvetica,sans-serif; font-size:48px; text-anchor:end;\" transform=\"rotate(0, 124.013, 1213.79)\" x=\"124.013\" y=\"1213.79\">10</text>\n",
       "</g>\n",
       "<g clip-path=\"url(#clip4801)\">\n",
       "<text style=\"fill:#000000; fill-opacity:1; font-family:Arial,Helvetica Neue,Helvetica,sans-serif; font-size:48px; text-anchor:end;\" transform=\"rotate(0, 124.013, 992.146)\" x=\"124.013\" y=\"992.146\">20</text>\n",
       "</g>\n",
       "<g clip-path=\"url(#clip4801)\">\n",
       "<text style=\"fill:#000000; fill-opacity:1; font-family:Arial,Helvetica Neue,Helvetica,sans-serif; font-size:48px; text-anchor:end;\" transform=\"rotate(0, 124.013, 770.503)\" x=\"124.013\" y=\"770.503\">30</text>\n",
       "</g>\n",
       "<g clip-path=\"url(#clip4801)\">\n",
       "<text style=\"fill:#000000; fill-opacity:1; font-family:Arial,Helvetica Neue,Helvetica,sans-serif; font-size:48px; text-anchor:end;\" transform=\"rotate(0, 124.013, 548.86)\" x=\"124.013\" y=\"548.86\">40</text>\n",
       "</g>\n",
       "<g clip-path=\"url(#clip4801)\">\n",
       "<text style=\"fill:#000000; fill-opacity:1; font-family:Arial,Helvetica Neue,Helvetica,sans-serif; font-size:48px; text-anchor:end;\" transform=\"rotate(0, 124.013, 327.217)\" x=\"124.013\" y=\"327.217\">50</text>\n",
       "</g>\n",
       "<g clip-path=\"url(#clip4801)\">\n",
       "<text style=\"fill:#000000; fill-opacity:1; font-family:Arial,Helvetica Neue,Helvetica,sans-serif; font-size:48px; text-anchor:end;\" transform=\"rotate(0, 124.013, 105.575)\" x=\"124.013\" y=\"105.575\">60</text>\n",
       "</g>\n",
       "<polyline clip-path=\"url(#clip4803)\" style=\"stroke:#009af9; stroke-width:4; stroke-opacity:1; fill:none\" points=\"\n",
       "  209.52,1382.05 398.911,1440.13 512.727,1457.64 608.956,1462.26 713.489,1456.71 809.859,1441.83 913.178,1415.49 1032.88,1371.52 1139.26,1320.33 1232.55,1266.05 \n",
       "  1334.25,1196.88 1436.56,1116.78 1549.68,1015.95 1657.31,908.035 1769.22,783.451 1863.42,668.796 1978.43,516.69 2086.55,361.552 2259.75,88.4582 \n",
       "  \"/>\n",
       "<polygon clip-path=\"url(#clip4801)\" points=\"\n",
       "1958.43,251.724 2249.26,251.724 2249.26,130.764 1958.43,130.764 \n",
       "  \" fill=\"#ffffff\" fill-rule=\"evenodd\" fill-opacity=\"1\"/>\n",
       "<polyline clip-path=\"url(#clip4801)\" style=\"stroke:#000000; stroke-width:4; stroke-opacity:1; fill:none\" points=\"\n",
       "  1958.43,251.724 2249.26,251.724 2249.26,130.764 1958.43,130.764 1958.43,251.724 \n",
       "  \"/>\n",
       "<polyline clip-path=\"url(#clip4801)\" style=\"stroke:#009af9; stroke-width:4; stroke-opacity:1; fill:none\" points=\"\n",
       "  1982.43,191.244 2126.43,191.244 \n",
       "  \"/>\n",
       "<g clip-path=\"url(#clip4801)\">\n",
       "<text style=\"fill:#000000; fill-opacity:1; font-family:Arial,Helvetica Neue,Helvetica,sans-serif; font-size:48px; text-anchor:start;\" transform=\"rotate(0, 2150.43, 208.744)\" x=\"2150.43\" y=\"208.744\">y1</text>\n",
       "</g>\n",
       "</svg>\n"
      ]
     },
     "execution_count": 34,
     "metadata": {},
     "output_type": "execute_result"
    }
   ],
   "source": [
    "plot(f, -2, 8)"
   ]
  },
  {
   "cell_type": "code",
   "execution_count": 12,
   "metadata": {},
   "outputs": [
    {
     "data": {
      "text/plain": [
       "gradient_descent (generic function with 1 method)"
      ]
     },
     "execution_count": 12,
     "metadata": {},
     "output_type": "execute_result"
    }
   ],
   "source": [
    "function gradient_descent(f, x_guess, number_of_iterations, α)\n",
    "    x_old = x_guess\n",
    "    x_new = x_old - α*df(f, x_old, 0.0001)\n",
    "    data= [(x_old, f(x_old)), (x_new, f(x_new))]\n",
    "    for i = 1:number_of_iterations\n",
    "        x_old, x_new = x_new, x_new - α*df(f, x_new, 0.0001)\n",
    "        push!(data, (x_new, f(x_new)))\n",
    "    end\n",
    "    \n",
    "    return data\n",
    "end "
   ]
  },
  {
   "cell_type": "code",
   "execution_count": 13,
   "metadata": {},
   "outputs": [
    {
     "data": {
      "text/plain": [
       "27-element Array{Tuple{Float64,Float64},1}:\n",
       " (350.0, 122498.0)                         \n",
       " (265.9999880124815, 70753.9936226403)     \n",
       " (202.1599789033644, 40866.657070208734)   \n",
       " (153.64157196017914, 23603.732634394903)  \n",
       " (116.76758268877165, 13632.668366979125)  \n",
       " (88.74335084328777, 7873.3823188948645)   \n",
       " (67.44493463993422, 4546.819208584999)    \n",
       " (51.25813832564745, 2625.396744611208)    \n",
       " (38.95617312700779, 1515.5834247014036)   \n",
       " (29.60667957622718, 874.5554755293876)    \n",
       " (22.50106447795588, 504.29790264112785)   \n",
       " (17.10079700321785, 290.4372581452646)    \n",
       " (12.99659372248243, 166.9114483872697)    \n",
       " ⋮                                         \n",
       " (5.705164674725438, 30.548903965735015)   \n",
       " (4.335913152797843, 16.800142868605334)   \n",
       " (3.2952819961280966, 8.858883434005973)   \n",
       " (2.504402317056531, 4.2720309656781215)   \n",
       " (1.903333760962056, 1.6226794056179648)   \n",
       " (1.4465216583312568, 0.09242490802140901) \n",
       " (1.0993444603315083, -0.7914417575384247) \n",
       " (0.8354897898517955, -1.3019568110534028) \n",
       " (0.6349602402873522, -1.596825493254228)  \n",
       " (0.48255778261809823, -1.7671379864347043)\n",
       " (0.366731914789753, -1.8655077026746414)  \n",
       " (0.2787042552401253, -1.922323938111047)  "
      ]
     },
     "execution_count": 13,
     "metadata": {},
     "output_type": "execute_result"
    }
   ],
   "source": [
    "D1 = gradient_descent(f, 350.0, 25, 0.12)"
   ]
  },
  {
   "cell_type": "code",
   "execution_count": 33,
   "metadata": {},
   "outputs": [
    {
     "data": {
      "image/svg+xml": [
       "<?xml version=\"1.0\" encoding=\"utf-8\"?>\n",
       "<svg xmlns=\"http://www.w3.org/2000/svg\" xmlns:xlink=\"http://www.w3.org/1999/xlink\" width=\"600\" height=\"400\" viewBox=\"0 0 2400 1600\">\n",
       "<defs>\n",
       "  <clipPath id=\"clip4600\">\n",
       "    <rect x=\"0\" y=\"0\" width=\"2000\" height=\"2000\"/>\n",
       "  </clipPath>\n",
       "</defs>\n",
       "<defs>\n",
       "  <clipPath id=\"clip4601\">\n",
       "    <rect x=\"0\" y=\"0\" width=\"2400\" height=\"1600\"/>\n",
       "  </clipPath>\n",
       "</defs>\n",
       "<polygon clip-path=\"url(#clip4601)\" points=\"\n",
       "0,1600 2400,1600 2400,0 0,0 \n",
       "  \" fill=\"#ffffff\" fill-rule=\"evenodd\" fill-opacity=\"1\"/>\n",
       "<defs>\n",
       "  <clipPath id=\"clip4602\">\n",
       "    <rect x=\"480\" y=\"0\" width=\"1681\" height=\"1600\"/>\n",
       "  </clipPath>\n",
       "</defs>\n",
       "<polygon clip-path=\"url(#clip4601)\" points=\"\n",
       "308.828,1503.47 2321.26,1503.47 2321.26,47.2441 308.828,47.2441 \n",
       "  \" fill=\"#ffffff\" fill-rule=\"evenodd\" fill-opacity=\"1\"/>\n",
       "<defs>\n",
       "  <clipPath id=\"clip4603\">\n",
       "    <rect x=\"308\" y=\"47\" width=\"2013\" height=\"1457\"/>\n",
       "  </clipPath>\n",
       "</defs>\n",
       "<polyline clip-path=\"url(#clip4603)\" style=\"stroke:#000000; stroke-width:2; stroke-opacity:0.1; fill:none\" points=\"\n",
       "  368.724,1503.47 368.724,47.2441 \n",
       "  \"/>\n",
       "<polyline clip-path=\"url(#clip4603)\" style=\"stroke:#000000; stroke-width:2; stroke-opacity:0.1; fill:none\" points=\"\n",
       "  910.318,1503.47 910.318,47.2441 \n",
       "  \"/>\n",
       "<polyline clip-path=\"url(#clip4603)\" style=\"stroke:#000000; stroke-width:2; stroke-opacity:0.1; fill:none\" points=\"\n",
       "  1451.91,1503.47 1451.91,47.2441 \n",
       "  \"/>\n",
       "<polyline clip-path=\"url(#clip4603)\" style=\"stroke:#000000; stroke-width:2; stroke-opacity:0.1; fill:none\" points=\"\n",
       "  1993.51,1503.47 1993.51,47.2441 \n",
       "  \"/>\n",
       "<polyline clip-path=\"url(#clip4603)\" style=\"stroke:#000000; stroke-width:2; stroke-opacity:0.1; fill:none\" points=\"\n",
       "  308.828,1462.24 2321.26,1462.24 \n",
       "  \"/>\n",
       "<polyline clip-path=\"url(#clip4603)\" style=\"stroke:#000000; stroke-width:2; stroke-opacity:0.1; fill:none\" points=\"\n",
       "  308.828,1237.94 2321.26,1237.94 \n",
       "  \"/>\n",
       "<polyline clip-path=\"url(#clip4603)\" style=\"stroke:#000000; stroke-width:2; stroke-opacity:0.1; fill:none\" points=\"\n",
       "  308.828,1013.65 2321.26,1013.65 \n",
       "  \"/>\n",
       "<polyline clip-path=\"url(#clip4603)\" style=\"stroke:#000000; stroke-width:2; stroke-opacity:0.1; fill:none\" points=\"\n",
       "  308.828,789.356 2321.26,789.356 \n",
       "  \"/>\n",
       "<polyline clip-path=\"url(#clip4603)\" style=\"stroke:#000000; stroke-width:2; stroke-opacity:0.1; fill:none\" points=\"\n",
       "  308.828,565.061 2321.26,565.061 \n",
       "  \"/>\n",
       "<polyline clip-path=\"url(#clip4603)\" style=\"stroke:#000000; stroke-width:2; stroke-opacity:0.1; fill:none\" points=\"\n",
       "  308.828,340.767 2321.26,340.767 \n",
       "  \"/>\n",
       "<polyline clip-path=\"url(#clip4603)\" style=\"stroke:#000000; stroke-width:2; stroke-opacity:0.1; fill:none\" points=\"\n",
       "  308.828,116.473 2321.26,116.473 \n",
       "  \"/>\n",
       "<polyline clip-path=\"url(#clip4601)\" style=\"stroke:#000000; stroke-width:4; stroke-opacity:1; fill:none\" points=\"\n",
       "  308.828,1503.47 2321.26,1503.47 \n",
       "  \"/>\n",
       "<polyline clip-path=\"url(#clip4601)\" style=\"stroke:#000000; stroke-width:4; stroke-opacity:1; fill:none\" points=\"\n",
       "  308.828,1503.47 308.828,47.2441 \n",
       "  \"/>\n",
       "<polyline clip-path=\"url(#clip4601)\" style=\"stroke:#000000; stroke-width:4; stroke-opacity:1; fill:none\" points=\"\n",
       "  368.724,1503.47 368.724,1481.63 \n",
       "  \"/>\n",
       "<polyline clip-path=\"url(#clip4601)\" style=\"stroke:#000000; stroke-width:4; stroke-opacity:1; fill:none\" points=\"\n",
       "  910.318,1503.47 910.318,1481.63 \n",
       "  \"/>\n",
       "<polyline clip-path=\"url(#clip4601)\" style=\"stroke:#000000; stroke-width:4; stroke-opacity:1; fill:none\" points=\"\n",
       "  1451.91,1503.47 1451.91,1481.63 \n",
       "  \"/>\n",
       "<polyline clip-path=\"url(#clip4601)\" style=\"stroke:#000000; stroke-width:4; stroke-opacity:1; fill:none\" points=\"\n",
       "  1993.51,1503.47 1993.51,1481.63 \n",
       "  \"/>\n",
       "<polyline clip-path=\"url(#clip4601)\" style=\"stroke:#000000; stroke-width:4; stroke-opacity:1; fill:none\" points=\"\n",
       "  308.828,1462.24 339.014,1462.24 \n",
       "  \"/>\n",
       "<polyline clip-path=\"url(#clip4601)\" style=\"stroke:#000000; stroke-width:4; stroke-opacity:1; fill:none\" points=\"\n",
       "  308.828,1237.94 339.014,1237.94 \n",
       "  \"/>\n",
       "<polyline clip-path=\"url(#clip4601)\" style=\"stroke:#000000; stroke-width:4; stroke-opacity:1; fill:none\" points=\"\n",
       "  308.828,1013.65 339.014,1013.65 \n",
       "  \"/>\n",
       "<polyline clip-path=\"url(#clip4601)\" style=\"stroke:#000000; stroke-width:4; stroke-opacity:1; fill:none\" points=\"\n",
       "  308.828,789.356 339.014,789.356 \n",
       "  \"/>\n",
       "<polyline clip-path=\"url(#clip4601)\" style=\"stroke:#000000; stroke-width:4; stroke-opacity:1; fill:none\" points=\"\n",
       "  308.828,565.061 339.014,565.061 \n",
       "  \"/>\n",
       "<polyline clip-path=\"url(#clip4601)\" style=\"stroke:#000000; stroke-width:4; stroke-opacity:1; fill:none\" points=\"\n",
       "  308.828,340.767 339.014,340.767 \n",
       "  \"/>\n",
       "<polyline clip-path=\"url(#clip4601)\" style=\"stroke:#000000; stroke-width:4; stroke-opacity:1; fill:none\" points=\"\n",
       "  308.828,116.473 339.014,116.473 \n",
       "  \"/>\n",
       "<g clip-path=\"url(#clip4601)\">\n",
       "<text style=\"fill:#000000; fill-opacity:1; font-family:Arial,Helvetica Neue,Helvetica,sans-serif; font-size:48px; text-anchor:middle;\" transform=\"rotate(0, 368.724, 1557.47)\" x=\"368.724\" y=\"1557.47\">0</text>\n",
       "</g>\n",
       "<g clip-path=\"url(#clip4601)\">\n",
       "<text style=\"fill:#000000; fill-opacity:1; font-family:Arial,Helvetica Neue,Helvetica,sans-serif; font-size:48px; text-anchor:middle;\" transform=\"rotate(0, 910.318, 1557.47)\" x=\"910.318\" y=\"1557.47\">100</text>\n",
       "</g>\n",
       "<g clip-path=\"url(#clip4601)\">\n",
       "<text style=\"fill:#000000; fill-opacity:1; font-family:Arial,Helvetica Neue,Helvetica,sans-serif; font-size:48px; text-anchor:middle;\" transform=\"rotate(0, 1451.91, 1557.47)\" x=\"1451.91\" y=\"1557.47\">200</text>\n",
       "</g>\n",
       "<g clip-path=\"url(#clip4601)\">\n",
       "<text style=\"fill:#000000; fill-opacity:1; font-family:Arial,Helvetica Neue,Helvetica,sans-serif; font-size:48px; text-anchor:middle;\" transform=\"rotate(0, 1993.51, 1557.47)\" x=\"1993.51\" y=\"1557.47\">300</text>\n",
       "</g>\n",
       "<g clip-path=\"url(#clip4601)\">\n",
       "<text style=\"fill:#000000; fill-opacity:1; font-family:Arial,Helvetica Neue,Helvetica,sans-serif; font-size:48px; text-anchor:end;\" transform=\"rotate(0, 284.828, 1479.74)\" x=\"284.828\" y=\"1479.74\">0</text>\n",
       "</g>\n",
       "<g clip-path=\"url(#clip4601)\">\n",
       "<text style=\"fill:#000000; fill-opacity:1; font-family:Arial,Helvetica Neue,Helvetica,sans-serif; font-size:48px; text-anchor:start;\" transform=\"rotate(0, 114.543, 1261.67)\" x=\"114.543\" y=\"1261.67\">2.0×10</text>\n",
       "</g>\n",
       "<g clip-path=\"url(#clip4601)\">\n",
       "<text style=\"fill:#000000; fill-opacity:1; font-family:Arial,Helvetica Neue,Helvetica,sans-serif; font-size:38px; text-anchor:start;\" transform=\"rotate(0, 263.083, 1234.26)\" x=\"263.083\" y=\"1234.26\">4</text>\n",
       "</g>\n",
       "<g clip-path=\"url(#clip4601)\">\n",
       "<text style=\"fill:#000000; fill-opacity:1; font-family:Arial,Helvetica Neue,Helvetica,sans-serif; font-size:48px; text-anchor:start;\" transform=\"rotate(0, 114.543, 1037.38)\" x=\"114.543\" y=\"1037.38\">4.0×10</text>\n",
       "</g>\n",
       "<g clip-path=\"url(#clip4601)\">\n",
       "<text style=\"fill:#000000; fill-opacity:1; font-family:Arial,Helvetica Neue,Helvetica,sans-serif; font-size:38px; text-anchor:start;\" transform=\"rotate(0, 263.083, 1009.97)\" x=\"263.083\" y=\"1009.97\">4</text>\n",
       "</g>\n",
       "<g clip-path=\"url(#clip4601)\">\n",
       "<text style=\"fill:#000000; fill-opacity:1; font-family:Arial,Helvetica Neue,Helvetica,sans-serif; font-size:48px; text-anchor:start;\" transform=\"rotate(0, 114.543, 813.083)\" x=\"114.543\" y=\"813.083\">6.0×10</text>\n",
       "</g>\n",
       "<g clip-path=\"url(#clip4601)\">\n",
       "<text style=\"fill:#000000; fill-opacity:1; font-family:Arial,Helvetica Neue,Helvetica,sans-serif; font-size:38px; text-anchor:start;\" transform=\"rotate(0, 263.083, 785.673)\" x=\"263.083\" y=\"785.673\">4</text>\n",
       "</g>\n",
       "<g clip-path=\"url(#clip4601)\">\n",
       "<text style=\"fill:#000000; fill-opacity:1; font-family:Arial,Helvetica Neue,Helvetica,sans-serif; font-size:48px; text-anchor:start;\" transform=\"rotate(0, 114.543, 588.789)\" x=\"114.543\" y=\"588.789\">8.0×10</text>\n",
       "</g>\n",
       "<g clip-path=\"url(#clip4601)\">\n",
       "<text style=\"fill:#000000; fill-opacity:1; font-family:Arial,Helvetica Neue,Helvetica,sans-serif; font-size:38px; text-anchor:start;\" transform=\"rotate(0, 263.083, 561.379)\" x=\"263.083\" y=\"561.379\">4</text>\n",
       "</g>\n",
       "<g clip-path=\"url(#clip4601)\">\n",
       "<text style=\"fill:#000000; fill-opacity:1; font-family:Arial,Helvetica Neue,Helvetica,sans-serif; font-size:48px; text-anchor:start;\" transform=\"rotate(0, 114.543, 364.495)\" x=\"114.543\" y=\"364.495\">1.0×10</text>\n",
       "</g>\n",
       "<g clip-path=\"url(#clip4601)\">\n",
       "<text style=\"fill:#000000; fill-opacity:1; font-family:Arial,Helvetica Neue,Helvetica,sans-serif; font-size:38px; text-anchor:start;\" transform=\"rotate(0, 263.083, 337.084)\" x=\"263.083\" y=\"337.084\">5</text>\n",
       "</g>\n",
       "<g clip-path=\"url(#clip4601)\">\n",
       "<text style=\"fill:#000000; fill-opacity:1; font-family:Arial,Helvetica Neue,Helvetica,sans-serif; font-size:48px; text-anchor:start;\" transform=\"rotate(0, 114.543, 140.2)\" x=\"114.543\" y=\"140.2\">1.2×10</text>\n",
       "</g>\n",
       "<g clip-path=\"url(#clip4601)\">\n",
       "<text style=\"fill:#000000; fill-opacity:1; font-family:Arial,Helvetica Neue,Helvetica,sans-serif; font-size:38px; text-anchor:start;\" transform=\"rotate(0, 263.083, 112.79)\" x=\"263.083\" y=\"112.79\">5</text>\n",
       "</g>\n",
       "<polyline clip-path=\"url(#clip4603)\" style=\"stroke:#009af9; stroke-width:4; stroke-opacity:1; fill:none\" points=\"\n",
       "  365.783,1462.26 538.909,1451.19 642.95,1433.51 730.915,1412.11 826.471,1382.15 914.564,1348.35 1009.01,1305.52 1118.43,1247.37 1215.68,1188 1300.95,1130 \n",
       "  1393.92,1060.42 1487.45,983.759 1590.85,891.215 1689.23,795.573 1791.53,688.277 1877.64,591.754 1982.78,466.223 2081.61,340.514 2239.94,123.55 \n",
       "  \"/>\n",
       "<circle clip-path=\"url(#clip4603)\" style=\"fill:#000000; stroke:none; fill-opacity:1\" cx=\"2264.3\" cy=\"88.4582\" r=\"18\"/>\n",
       "<circle clip-path=\"url(#clip4603)\" style=\"fill:#e26f46; stroke:none; fill-opacity:1\" cx=\"2264.3\" cy=\"88.4582\" r=\"14\"/>\n",
       "<circle clip-path=\"url(#clip4603)\" style=\"fill:#000000; stroke:none; fill-opacity:1\" cx=\"1809.36\" cy=\"668.753\" r=\"18\"/>\n",
       "<circle clip-path=\"url(#clip4603)\" style=\"fill:#e26f46; stroke:none; fill-opacity:1\" cx=\"1809.36\" cy=\"668.753\" r=\"14\"/>\n",
       "<circle clip-path=\"url(#clip4603)\" style=\"fill:#000000; stroke:none; fill-opacity:1\" cx=\"1463.61\" cy=\"1003.93\" r=\"18\"/>\n",
       "<circle clip-path=\"url(#clip4603)\" style=\"fill:#e26f46; stroke:none; fill-opacity:1\" cx=\"1463.61\" cy=\"1003.93\" r=\"14\"/>\n",
       "<circle clip-path=\"url(#clip4603)\" style=\"fill:#000000; stroke:none; fill-opacity:1\" cx=\"1200.84\" cy=\"1197.53\" r=\"18\"/>\n",
       "<circle clip-path=\"url(#clip4603)\" style=\"fill:#e26f46; stroke:none; fill-opacity:1\" cx=\"1200.84\" cy=\"1197.53\" r=\"14\"/>\n",
       "<circle clip-path=\"url(#clip4603)\" style=\"fill:#000000; stroke:none; fill-opacity:1\" cx=\"1001.13\" cy=\"1309.35\" r=\"18\"/>\n",
       "<circle clip-path=\"url(#clip4603)\" style=\"fill:#e26f46; stroke:none; fill-opacity:1\" cx=\"1001.13\" cy=\"1309.35\" r=\"14\"/>\n",
       "<circle clip-path=\"url(#clip4603)\" style=\"fill:#000000; stroke:none; fill-opacity:1\" cx=\"849.353\" cy=\"1373.94\" r=\"18\"/>\n",
       "<circle clip-path=\"url(#clip4603)\" style=\"fill:#e26f46; stroke:none; fill-opacity:1\" cx=\"849.353\" cy=\"1373.94\" r=\"14\"/>\n",
       "<circle clip-path=\"url(#clip4603)\" style=\"fill:#000000; stroke:none; fill-opacity:1\" cx=\"734.002\" cy=\"1411.25\" r=\"18\"/>\n",
       "<circle clip-path=\"url(#clip4603)\" style=\"fill:#e26f46; stroke:none; fill-opacity:1\" cx=\"734.002\" cy=\"1411.25\" r=\"14\"/>\n",
       "<circle clip-path=\"url(#clip4603)\" style=\"fill:#000000; stroke:none; fill-opacity:1\" cx=\"646.335\" cy=\"1432.8\" r=\"18\"/>\n",
       "<circle clip-path=\"url(#clip4603)\" style=\"fill:#e26f46; stroke:none; fill-opacity:1\" cx=\"646.335\" cy=\"1432.8\" r=\"14\"/>\n",
       "<circle clip-path=\"url(#clip4603)\" style=\"fill:#000000; stroke:none; fill-opacity:1\" cx=\"579.708\" cy=\"1445.24\" r=\"18\"/>\n",
       "<circle clip-path=\"url(#clip4603)\" style=\"fill:#e26f46; stroke:none; fill-opacity:1\" cx=\"579.708\" cy=\"1445.24\" r=\"14\"/>\n",
       "<circle clip-path=\"url(#clip4603)\" style=\"fill:#000000; stroke:none; fill-opacity:1\" cx=\"529.072\" cy=\"1452.43\" r=\"18\"/>\n",
       "<circle clip-path=\"url(#clip4603)\" style=\"fill:#e26f46; stroke:none; fill-opacity:1\" cx=\"529.072\" cy=\"1452.43\" r=\"14\"/>\n",
       "<circle clip-path=\"url(#clip4603)\" style=\"fill:#000000; stroke:none; fill-opacity:1\" cx=\"490.588\" cy=\"1456.58\" r=\"18\"/>\n",
       "<circle clip-path=\"url(#clip4603)\" style=\"fill:#e26f46; stroke:none; fill-opacity:1\" cx=\"490.588\" cy=\"1456.58\" r=\"14\"/>\n",
       "<circle clip-path=\"url(#clip4603)\" style=\"fill:#000000; stroke:none; fill-opacity:1\" cx=\"461.34\" cy=\"1458.98\" r=\"18\"/>\n",
       "<circle clip-path=\"url(#clip4603)\" style=\"fill:#e26f46; stroke:none; fill-opacity:1\" cx=\"461.34\" cy=\"1458.98\" r=\"14\"/>\n",
       "<circle clip-path=\"url(#clip4603)\" style=\"fill:#000000; stroke:none; fill-opacity:1\" cx=\"439.112\" cy=\"1460.37\" r=\"18\"/>\n",
       "<circle clip-path=\"url(#clip4603)\" style=\"fill:#e26f46; stroke:none; fill-opacity:1\" cx=\"439.112\" cy=\"1460.37\" r=\"14\"/>\n",
       "<circle clip-path=\"url(#clip4603)\" style=\"fill:#000000; stroke:none; fill-opacity:1\" cx=\"422.219\" cy=\"1461.17\" r=\"18\"/>\n",
       "<circle clip-path=\"url(#clip4603)\" style=\"fill:#e26f46; stroke:none; fill-opacity:1\" cx=\"422.219\" cy=\"1461.17\" r=\"14\"/>\n",
       "<circle clip-path=\"url(#clip4603)\" style=\"fill:#000000; stroke:none; fill-opacity:1\" cx=\"409.38\" cy=\"1461.63\" r=\"18\"/>\n",
       "<circle clip-path=\"url(#clip4603)\" style=\"fill:#e26f46; stroke:none; fill-opacity:1\" cx=\"409.38\" cy=\"1461.63\" r=\"14\"/>\n",
       "<circle clip-path=\"url(#clip4603)\" style=\"fill:#000000; stroke:none; fill-opacity:1\" cx=\"399.622\" cy=\"1461.9\" r=\"18\"/>\n",
       "<circle clip-path=\"url(#clip4603)\" style=\"fill:#e26f46; stroke:none; fill-opacity:1\" cx=\"399.622\" cy=\"1461.9\" r=\"14\"/>\n",
       "<circle clip-path=\"url(#clip4603)\" style=\"fill:#000000; stroke:none; fill-opacity:1\" cx=\"392.207\" cy=\"1462.05\" r=\"18\"/>\n",
       "<circle clip-path=\"url(#clip4603)\" style=\"fill:#e26f46; stroke:none; fill-opacity:1\" cx=\"392.207\" cy=\"1462.05\" r=\"14\"/>\n",
       "<circle clip-path=\"url(#clip4603)\" style=\"fill:#000000; stroke:none; fill-opacity:1\" cx=\"386.571\" cy=\"1462.14\" r=\"18\"/>\n",
       "<circle clip-path=\"url(#clip4603)\" style=\"fill:#e26f46; stroke:none; fill-opacity:1\" cx=\"386.571\" cy=\"1462.14\" r=\"14\"/>\n",
       "<circle clip-path=\"url(#clip4603)\" style=\"fill:#000000; stroke:none; fill-opacity:1\" cx=\"382.287\" cy=\"1462.19\" r=\"18\"/>\n",
       "<circle clip-path=\"url(#clip4603)\" style=\"fill:#e26f46; stroke:none; fill-opacity:1\" cx=\"382.287\" cy=\"1462.19\" r=\"14\"/>\n",
       "<circle clip-path=\"url(#clip4603)\" style=\"fill:#000000; stroke:none; fill-opacity:1\" cx=\"379.032\" cy=\"1462.22\" r=\"18\"/>\n",
       "<circle clip-path=\"url(#clip4603)\" style=\"fill:#e26f46; stroke:none; fill-opacity:1\" cx=\"379.032\" cy=\"1462.22\" r=\"14\"/>\n",
       "<circle clip-path=\"url(#clip4603)\" style=\"fill:#000000; stroke:none; fill-opacity:1\" cx=\"376.558\" cy=\"1462.24\" r=\"18\"/>\n",
       "<circle clip-path=\"url(#clip4603)\" style=\"fill:#e26f46; stroke:none; fill-opacity:1\" cx=\"376.558\" cy=\"1462.24\" r=\"14\"/>\n",
       "<circle clip-path=\"url(#clip4603)\" style=\"fill:#000000; stroke:none; fill-opacity:1\" cx=\"374.678\" cy=\"1462.25\" r=\"18\"/>\n",
       "<circle clip-path=\"url(#clip4603)\" style=\"fill:#e26f46; stroke:none; fill-opacity:1\" cx=\"374.678\" cy=\"1462.25\" r=\"14\"/>\n",
       "<circle clip-path=\"url(#clip4603)\" style=\"fill:#000000; stroke:none; fill-opacity:1\" cx=\"373.248\" cy=\"1462.25\" r=\"18\"/>\n",
       "<circle clip-path=\"url(#clip4603)\" style=\"fill:#e26f46; stroke:none; fill-opacity:1\" cx=\"373.248\" cy=\"1462.25\" r=\"14\"/>\n",
       "<circle clip-path=\"url(#clip4603)\" style=\"fill:#000000; stroke:none; fill-opacity:1\" cx=\"372.162\" cy=\"1462.26\" r=\"18\"/>\n",
       "<circle clip-path=\"url(#clip4603)\" style=\"fill:#e26f46; stroke:none; fill-opacity:1\" cx=\"372.162\" cy=\"1462.26\" r=\"14\"/>\n",
       "<circle clip-path=\"url(#clip4603)\" style=\"fill:#000000; stroke:none; fill-opacity:1\" cx=\"371.337\" cy=\"1462.26\" r=\"18\"/>\n",
       "<circle clip-path=\"url(#clip4603)\" style=\"fill:#e26f46; stroke:none; fill-opacity:1\" cx=\"371.337\" cy=\"1462.26\" r=\"14\"/>\n",
       "<circle clip-path=\"url(#clip4603)\" style=\"fill:#000000; stroke:none; fill-opacity:1\" cx=\"370.71\" cy=\"1462.26\" r=\"18\"/>\n",
       "<circle clip-path=\"url(#clip4603)\" style=\"fill:#e26f46; stroke:none; fill-opacity:1\" cx=\"370.71\" cy=\"1462.26\" r=\"14\"/>\n",
       "<circle clip-path=\"url(#clip4603)\" style=\"fill:#000000; stroke:none; fill-opacity:1\" cx=\"370.233\" cy=\"1462.26\" r=\"18\"/>\n",
       "<circle clip-path=\"url(#clip4603)\" style=\"fill:#e26f46; stroke:none; fill-opacity:1\" cx=\"370.233\" cy=\"1462.26\" r=\"14\"/>\n",
       "<polygon clip-path=\"url(#clip4601)\" points=\"\n",
       "1958.43,312.204 2249.26,312.204 2249.26,130.764 1958.43,130.764 \n",
       "  \" fill=\"#ffffff\" fill-rule=\"evenodd\" fill-opacity=\"1\"/>\n",
       "<polyline clip-path=\"url(#clip4601)\" style=\"stroke:#000000; stroke-width:4; stroke-opacity:1; fill:none\" points=\"\n",
       "  1958.43,312.204 2249.26,312.204 2249.26,130.764 1958.43,130.764 1958.43,312.204 \n",
       "  \"/>\n",
       "<polyline clip-path=\"url(#clip4601)\" style=\"stroke:#009af9; stroke-width:4; stroke-opacity:1; fill:none\" points=\"\n",
       "  1982.43,191.244 2126.43,191.244 \n",
       "  \"/>\n",
       "<g clip-path=\"url(#clip4601)\">\n",
       "<text style=\"fill:#000000; fill-opacity:1; font-family:Arial,Helvetica Neue,Helvetica,sans-serif; font-size:48px; text-anchor:start;\" transform=\"rotate(0, 2150.43, 208.744)\" x=\"2150.43\" y=\"208.744\">y1</text>\n",
       "</g>\n",
       "<circle clip-path=\"url(#clip4601)\" style=\"fill:#000000; stroke:none; fill-opacity:1\" cx=\"2066.43\" cy=\"251.724\" r=\"25\"/>\n",
       "<circle clip-path=\"url(#clip4601)\" style=\"fill:#e26f46; stroke:none; fill-opacity:1\" cx=\"2066.43\" cy=\"251.724\" r=\"21\"/>\n",
       "<g clip-path=\"url(#clip4601)\">\n",
       "<text style=\"fill:#000000; fill-opacity:1; font-family:Arial,Helvetica Neue,Helvetica,sans-serif; font-size:48px; text-anchor:start;\" transform=\"rotate(0, 2150.43, 269.224)\" x=\"2150.43\" y=\"269.224\">y2</text>\n",
       "</g>\n",
       "</svg>\n"
      ]
     },
     "execution_count": 33,
     "metadata": {},
     "output_type": "execute_result"
    }
   ],
   "source": [
    "plot(f, -4, 350)\n",
    "scatter!(D1)"
   ]
  },
  {
   "cell_type": "code",
   "execution_count": 38,
   "metadata": {},
   "outputs": [
    {
     "data": {
      "text/plain": [
       "f (generic function with 2 methods)"
      ]
     },
     "execution_count": 38,
     "metadata": {},
     "output_type": "execute_result"
    }
   ],
   "source": [
    "using LinearAlgebra\n",
    "f(x,y) = (x-2)^4 + (x - 3*y^2)^2"
   ]
  },
  {
   "cell_type": "code",
   "execution_count": 41,
   "metadata": {},
   "outputs": [
    {
     "data": {
      "text/plain": [
       "122"
      ]
     },
     "execution_count": 41,
     "metadata": {},
     "output_type": "execute_result"
    }
   ],
   "source": [
    "f(1,2)"
   ]
  },
  {
   "cell_type": "code",
   "execution_count": 42,
   "metadata": {},
   "outputs": [
    {
     "data": {
      "text/plain": [
       "grad_f (generic function with 1 method)"
      ]
     },
     "execution_count": 42,
     "metadata": {},
     "output_type": "execute_result"
    }
   ],
   "source": [
    "grad_f(f,x,y,ϵ) = [(f(x+ϵ, y) - f(x,y))/ϵ, (f(x, y+ϵ) - f(x,y))/ϵ]"
   ]
  },
  {
   "cell_type": "code",
   "execution_count": 43,
   "metadata": {},
   "outputs": [
    {
     "data": {
      "text/plain": [
       "2-element Array{Float64,1}:\n",
       " -7.999300039998047\n",
       " 24.00480036000019 "
      ]
     },
     "execution_count": 43,
     "metadata": {},
     "output_type": "execute_result"
    }
   ],
   "source": [
    "grad_f(f, 1.0, 1.0, 0.0001)"
   ]
  },
  {
   "cell_type": "code",
   "execution_count": 50,
   "metadata": {},
   "outputs": [
    {
     "data": {
      "text/plain": [
       "2-element Array{Float64,1}:\n",
       "  1.9599916000482267\n",
       " -1.8800576004499585"
      ]
     },
     "execution_count": 50,
     "metadata": {},
     "output_type": "execute_result"
    }
   ],
   "source": [
    "x0 = [1.0, 1.0]\n",
    "x1 = x0 - 0.12*grad_f(f, x0[1], x0[2], 0.00001)"
   ]
  },
  {
   "cell_type": "code",
   "execution_count": 51,
   "metadata": {},
   "outputs": [
    {
     "data": {
      "text/plain": [
       "2-element Array{Float64,1}:\n",
       "  4.034547082116035\n",
       " 21.52109719558359 "
      ]
     },
     "execution_count": 51,
     "metadata": {},
     "output_type": "execute_result"
    }
   ],
   "source": [
    "x2 = x1 - 0.12*grad_f(f, x1[1], x1[2], 0.00001)"
   ]
  },
  {
   "cell_type": "code",
   "execution_count": 52,
   "metadata": {},
   "outputs": [
    {
     "data": {
      "text/plain": [
       "2-element Array{Float64,1}:\n",
       "    332.49726513676825\n",
       " -42913.769039178944  "
      ]
     },
     "execution_count": 52,
     "metadata": {},
     "output_type": "execute_result"
    }
   ],
   "source": [
    "x3 = x2 - 0.12*grad_f(f, x2[1], x2[2], 0.00001)"
   ]
  },
  {
   "cell_type": "code",
   "execution_count": 56,
   "metadata": {},
   "outputs": [
    {
     "data": {
      "text/plain": [
       "2-element Array{Float64,1}:\n",
       " 1.376256332497265e9  \n",
       " 3.4140812078908625e14"
      ]
     },
     "execution_count": 56,
     "metadata": {},
     "output_type": "execute_result"
    }
   ],
   "source": [
    "x4 = x3 - 0.12*grad_f(f, x3[1], x3[2], 0.00001)"
   ]
  },
  {
   "cell_type": "code",
   "execution_count": 54,
   "metadata": {},
   "outputs": [
    {
     "data": {
      "text/plain": [
       "2-element Array{Float64,1}:\n",
       " 1.376256332497265e9  \n",
       " 3.4140812078908625e14"
      ]
     },
     "execution_count": 54,
     "metadata": {},
     "output_type": "execute_result"
    }
   ],
   "source": [
    "x5 = x4 - 0.12*grad_f(f, x4[1], x4[2], 0.00001)"
   ]
  },
  {
   "cell_type": "code",
   "execution_count": 55,
   "metadata": {},
   "outputs": [
    {
     "data": {
      "text/plain": [
       "2-element Array{Float64,1}:\n",
       " 0.0\n",
       " 0.0"
      ]
     },
     "execution_count": 55,
     "metadata": {},
     "output_type": "execute_result"
    }
   ],
   "source": [
    "grad_f(f, x4[1], x4[2], 0.00001)"
   ]
  }
 ],
 "metadata": {
  "kernelspec": {
   "display_name": "Julia 1.0.3",
   "language": "julia",
   "name": "julia-1.0"
  },
  "language_info": {
   "file_extension": ".jl",
   "mimetype": "application/julia",
   "name": "julia",
   "version": "1.0.3"
  }
 },
 "nbformat": 4,
 "nbformat_minor": 2
}
